{
  "cells": [
    {
      "source": [
        "\n",
        "# IMPORTANT: RUN THIS CELL IN ORDER TO IMPORT YOUR KAGGLE DATA SOURCES\n",
        "# TO THE CORRECT LOCATION (/kaggle/input) IN YOUR NOTEBOOK,\n",
        "# THEN FEEL FREE TO DELETE THIS CELL.\n",
        "# NOTE: THIS NOTEBOOK ENVIRONMENT DIFFERS FROM KAGGLE'S PYTHON\n",
        "# ENVIRONMENT SO THERE MAY BE MISSING LIBRARIES USED BY YOUR\n",
        "# NOTEBOOK.\n",
        "\n",
        "import os\n",
        "import sys\n",
        "from tempfile import NamedTemporaryFile\n",
        "from urllib.request import urlopen\n",
        "from urllib.parse import unquote, urlparse\n",
        "from urllib.error import HTTPError\n",
        "from zipfile import ZipFile\n",
        "import tarfile\n",
        "import shutil\n",
        "\n",
        "CHUNK_SIZE = 40960\n",
        "DATA_SOURCE_MAPPING = 'geojson-departamentos-peru:https%3A%2F%2Fstorage.googleapis.com%2Fkaggle-data-sets%2F552005%2F1005585%2Fbundle%2Farchive.zip%3FX-Goog-Algorithm%3DGOOG4-RSA-SHA256%26X-Goog-Credential%3Dgcp-kaggle-com%2540kaggle-161607.iam.gserviceaccount.com%252F20240522%252Fauto%252Fstorage%252Fgoog4_request%26X-Goog-Date%3D20240522T221921Z%26X-Goog-Expires%3D259200%26X-Goog-SignedHeaders%3Dhost%26X-Goog-Signature%3D7b67ea96090d2c1cd0cb56ce2b5dde6f9b97ba5480048d5d4360cd70a60106e53a7e89bc145feffc6ec9854cdc730c0389fd6fade45d26d2cf01eb35d83a825f252b9cb69da2d12778d463150f4796ff3304028e202ca2e307d954dd453ac44a43bf6453bc3eed1b825fc273ecaa51446e22e1641a1f0b1b103f65dcb22a17deb6e6980435f648d670e71c5d0f68caf5087a14299e1a19ba036ffc86e0983708b0175af19a682b364e06ea9dfd7078a5e118c914738f5d575e220fccabd739cd546ecd0906cfaf147e0f215cd841c464e47cde6c28162d7cac1c575138adbbd9ae4ec88d15a9600d975a9fdeef63d0a2c13e6159d27967f6a791c190b720d2bf'\n",
        "\n",
        "KAGGLE_INPUT_PATH='/kaggle/input'\n",
        "KAGGLE_WORKING_PATH='/kaggle/working'\n",
        "KAGGLE_SYMLINK='kaggle'\n",
        "\n",
        "!umount /kaggle/input/ 2> /dev/null\n",
        "shutil.rmtree('/kaggle/input', ignore_errors=True)\n",
        "os.makedirs(KAGGLE_INPUT_PATH, 0o777, exist_ok=True)\n",
        "os.makedirs(KAGGLE_WORKING_PATH, 0o777, exist_ok=True)\n",
        "\n",
        "try:\n",
        "  os.symlink(KAGGLE_INPUT_PATH, os.path.join(\"..\", 'input'), target_is_directory=True)\n",
        "except FileExistsError:\n",
        "  pass\n",
        "try:\n",
        "  os.symlink(KAGGLE_WORKING_PATH, os.path.join(\"..\", 'working'), target_is_directory=True)\n",
        "except FileExistsError:\n",
        "  pass\n",
        "\n",
        "for data_source_mapping in DATA_SOURCE_MAPPING.split(','):\n",
        "    directory, download_url_encoded = data_source_mapping.split(':')\n",
        "    download_url = unquote(download_url_encoded)\n",
        "    filename = urlparse(download_url).path\n",
        "    destination_path = os.path.join(KAGGLE_INPUT_PATH, directory)\n",
        "    try:\n",
        "        with urlopen(download_url) as fileres, NamedTemporaryFile() as tfile:\n",
        "            total_length = fileres.headers['content-length']\n",
        "            print(f'Downloading {directory}, {total_length} bytes compressed')\n",
        "            dl = 0\n",
        "            data = fileres.read(CHUNK_SIZE)\n",
        "            while len(data) > 0:\n",
        "                dl += len(data)\n",
        "                tfile.write(data)\n",
        "                done = int(50 * dl / int(total_length))\n",
        "                sys.stdout.write(f\"\\r[{'=' * done}{' ' * (50-done)}] {dl} bytes downloaded\")\n",
        "                sys.stdout.flush()\n",
        "                data = fileres.read(CHUNK_SIZE)\n",
        "            if filename.endswith('.zip'):\n",
        "              with ZipFile(tfile) as zfile:\n",
        "                zfile.extractall(destination_path)\n",
        "            else:\n",
        "              with tarfile.open(tfile.name) as tarfile:\n",
        "                tarfile.extractall(destination_path)\n",
        "            print(f'\\nDownloaded and uncompressed: {directory}')\n",
        "    except HTTPError as e:\n",
        "        print(f'Failed to load (likely expired) {download_url} to path {destination_path}')\n",
        "        continue\n",
        "    except OSError as e:\n",
        "        print(f'Failed to load {download_url} to path {destination_path}')\n",
        "        continue\n",
        "\n",
        "print('Data source import complete.')\n"
      ],
      "metadata": {
        "id": "p4ltYLNsY0Cn"
      },
      "cell_type": "code",
      "outputs": [],
      "execution_count": null
    },
    {
      "metadata": {
        "id": "yaA9-aymY0Cs"
      },
      "cell_type": "markdown",
      "source": [
        "# Visualización de los departamentos del Perú con Geopandas\n",
        "\n",
        "\n",
        "## Introdución\n",
        "Geopandas necesita de un archivo geojson el cual contiene poligonos de los departamentos del pais. Necesitamos cargar el archivo geojson para empezar a graficar.\n",
        "\n",
        "Si buscas de otro pais, es recomendable que lo googlees como \"geojson Argentina ... Brasil, Bolovia, etc.\" Mucha gente sube gratuitamente este tipo de contenido a GitHub."
      ]
    },
    {
      "metadata": {
        "trusted": true,
        "id": "pxfTTc8vY0Cv"
      },
      "cell_type": "code",
      "source": [
        "%matplotlib inline\n",
        "import pandas as pd\n",
        "import numpy as np\n",
        "import matplotlib.pyplot as plt\n",
        "import geopandas as gpd"
      ],
      "execution_count": null,
      "outputs": []
    },
    {
      "metadata": {
        "id": "o-g3cZWEY0Cv"
      },
      "cell_type": "markdown",
      "source": [
        "Carga de Archivo Geojson que contiene polígonos de las regiones del Perú"
      ]
    },
    {
      "metadata": {
        "id": "OlOsTemWY0Cw"
      },
      "cell_type": "markdown",
      "source": [
        "## Departamentos"
      ]
    },
    {
      "metadata": {
        "trusted": true,
        "id": "NMu75IKzY0Cw"
      },
      "cell_type": "code",
      "source": [
        "url_geojson = \"/kaggle/input/geojson-departamentos-peru/peru_departamental_simple.geojson\""
      ],
      "execution_count": null,
      "outputs": []
    },
    {
      "metadata": {
        "trusted": true,
        "id": "RvghIKHKY0Cx"
      },
      "cell_type": "code",
      "source": [
        "region_geojson = gpd.read_file(url_geojson)\n",
        "region_geojson.head()"
      ],
      "execution_count": null,
      "outputs": []
    },
    {
      "metadata": {
        "id": "0zhQeltvY0Cx"
      },
      "cell_type": "markdown",
      "source": [
        "Visualización"
      ]
    },
    {
      "metadata": {
        "trusted": true,
        "id": "SZjMigVpY0Cy"
      },
      "cell_type": "code",
      "source": [
        "ax = region_geojson.plot(figsize=(15,15))\n",
        "plt.ylabel('Latitude')\n",
        "plt.xlabel('Longitude')\n",
        "plt.show()"
      ],
      "execution_count": null,
      "outputs": []
    },
    {
      "metadata": {
        "trusted": true,
        "id": "DVSUHZhdY0Cy"
      },
      "cell_type": "code",
      "source": [
        "ax = region_geojson.plot(figsize=(20,20),edgecolor=u'gray', cmap='Pastel1')\n",
        "plt.ylabel('Latitude')\n",
        "plt.xlabel('Longitude')\n",
        "plt.show()"
      ],
      "execution_count": null,
      "outputs": []
    },
    {
      "metadata": {
        "id": "x4QpvrctY0Cz"
      },
      "cell_type": "markdown",
      "source": [
        "## Provincias"
      ]
    },
    {
      "metadata": {
        "trusted": true,
        "id": "kw5YBn4AY0Cz"
      },
      "cell_type": "code",
      "source": [
        "url_geojson = \"/kaggle/input/geojson-departamentos-peru/peru_provincial_simple.geojson\"\n",
        "\n",
        "provinces_geojson = gpd.read_file(url_geojson)\n",
        "provinces_geojson.head()"
      ],
      "execution_count": null,
      "outputs": []
    },
    {
      "metadata": {
        "trusted": true,
        "id": "G8KrBnIMY0C0"
      },
      "cell_type": "code",
      "source": [
        "ax = provinces_geojson.plot(figsize=(20,20))\n",
        "plt.ylabel('Latitude')\n",
        "plt.xlabel('Longitude')\n",
        "plt.show()"
      ],
      "execution_count": null,
      "outputs": []
    },
    {
      "metadata": {
        "trusted": true,
        "id": "cYGFSN9rY0C0"
      },
      "cell_type": "code",
      "source": [
        "ax = provinces_geojson.plot(figsize=(20,20),edgecolor=u'gray', cmap='Pastel1')\n",
        "plt.ylabel('Latitude')\n",
        "plt.xlabel('Longitude')\n",
        "plt.show()"
      ],
      "execution_count": null,
      "outputs": []
    },
    {
      "metadata": {
        "id": "j1QOH0CvY0C0"
      },
      "cell_type": "markdown",
      "source": [
        "Podemos pintar un departamento especifico de la siguiente manera.\n",
        "\n",
        "Ejemplo departamento **Cusco**"
      ]
    },
    {
      "metadata": {
        "trusted": true,
        "id": "uePpCVWGY0C0"
      },
      "cell_type": "code",
      "source": [
        "ax = provinces_geojson[provinces_geojson.FIRST_NOMB=='CUSCO'].plot(figsize=(20,20),edgecolor=u'gray', cmap='Pastel1')\n",
        "plt.ylabel('Latitude')\n",
        "plt.xlabel('Longitude')\n",
        "ax.axis('scaled')\n",
        "plt.show()"
      ],
      "execution_count": null,
      "outputs": []
    },
    {
      "metadata": {
        "id": "yrM_QGtvY0C1"
      },
      "cell_type": "markdown",
      "source": [
        "## Distritos"
      ]
    },
    {
      "metadata": {
        "trusted": true,
        "id": "BQlMdV-KY0C1"
      },
      "cell_type": "code",
      "source": [
        "url_geojson = \"/kaggle/input/geojson-departamentos-peru/peru_distrital_simple.geojson\"\n",
        "\n",
        "districts_geojson = gpd.read_file(url_geojson)\n",
        "districts_geojson.head()"
      ],
      "execution_count": null,
      "outputs": []
    },
    {
      "metadata": {
        "trusted": true,
        "id": "1bhcWdsNY0C1"
      },
      "cell_type": "code",
      "source": [
        "ax = districts_geojson.plot(figsize=(20,20))\n",
        "plt.ylabel('Latitude')\n",
        "plt.xlabel('Longitude')\n",
        "plt.show()"
      ],
      "execution_count": null,
      "outputs": []
    },
    {
      "metadata": {
        "trusted": true,
        "id": "fDUfYhh_Y0C1"
      },
      "cell_type": "code",
      "source": [
        "ax = districts_geojson.plot(figsize=(20,20),edgecolor=u'gray', cmap='Pastel1')\n",
        "plt.ylabel('Latitude')\n",
        "plt.xlabel('Longitude')\n",
        "plt.show()"
      ],
      "execution_count": null,
      "outputs": []
    },
    {
      "metadata": {
        "id": "3CavBpSfY0C1"
      },
      "cell_type": "markdown",
      "source": [
        "Podemos seleccionar un departamento en especifico\n",
        "\n",
        "Ejemplo, **Cusco**."
      ]
    },
    {
      "metadata": {
        "trusted": true,
        "id": "TZGQ1U0VY0C1"
      },
      "cell_type": "code",
      "source": [
        "ax = districts_geojson[districts_geojson.NOMBDEP=='CUSCO'].plot(figsize=(20,20),edgecolor=u'gray', cmap='Pastel1')\n",
        "plt.ylabel('Latitude')\n",
        "plt.xlabel('Longitude')\n",
        "ax.axis('scaled')\n",
        "plt.show()"
      ],
      "execution_count": null,
      "outputs": []
    },
    {
      "metadata": {
        "id": "VlwGSTWgY0C1"
      },
      "cell_type": "markdown",
      "source": [
        "También podemos seleccionar un distrito en especifico.\n",
        "\n",
        "Ejemplo, **Calca** (Cusco).\n",
        "\n",
        "```python\n",
        "print(\"Mi querido Calca, se encuentra en el Valle Sagrado de los Incas - Cusco Perú 😊\")\n",
        "```"
      ]
    },
    {
      "metadata": {
        "trusted": true,
        "id": "cNJ80YnDY0C2"
      },
      "cell_type": "code",
      "source": [
        "ax = districts_geojson[districts_geojson.NOMBPROV=='CALCA'].plot(figsize=(20,20),edgecolor=u'gray', cmap='Pastel1')\n",
        "plt.ylabel('Latitude')\n",
        "plt.xlabel('Longitude')\n",
        "ax.axis('scaled')\n",
        "plt.show()"
      ],
      "execution_count": null,
      "outputs": []
    },
    {
      "metadata": {
        "_uuid": "8f2839f25d086af736a60e9eeb907d3b93b6e0e5",
        "_cell_guid": "b1076dfc-b9ad-4769-8c92-a6c4dae69d19",
        "trusted": true,
        "id": "pfOgmFvrY0C2"
      },
      "cell_type": "code",
      "source": [
        "\"\"\"\n",
        "Archivos:\n",
        "\"\"\"\n",
        "# /kaggle/input/geojson-departamentos-peru/peru_distrital_simple.geojson\n",
        "# /kaggle/input/geojson-departamentos-peru/peru_provincial_simple.geojson\n",
        "# /kaggle/input/geojson-departamentos-peru/peru_departamental_simple.geojson"
      ],
      "execution_count": null,
      "outputs": []
    },
    {
      "metadata": {
        "id": "3t2tccBrY0C2"
      },
      "cell_type": "markdown",
      "source": [
        "Este es mi humilde aporte, espero les sirva. Si pueden hacer mas cosas con la data brindada, no olviden compartir sus noteboks.\n",
        "\n",
        "Atte. Noe Melo Locumber\n",
        "## 😎"
      ]
    }
  ],
  "metadata": {
    "kernelspec": {
      "language": "python",
      "display_name": "Python 3",
      "name": "python3"
    },
    "language_info": {
      "pygments_lexer": "ipython3",
      "nbconvert_exporter": "python",
      "version": "3.6.4",
      "file_extension": ".py",
      "codemirror_mode": {
        "name": "ipython",
        "version": 3
      },
      "name": "python",
      "mimetype": "text/x-python"
    },
    "colab": {
      "name": "Geopandas Mapa del Peru",
      "provenance": []
    }
  },
  "nbformat": 4,
  "nbformat_minor": 0
}